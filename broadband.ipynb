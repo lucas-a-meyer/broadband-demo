{
 "cells": [
  {
   "cell_type": "code",
   "execution_count": null,
   "metadata": {},
   "outputs": [],
   "source": [
    "import json\n",
    "import pandas as pd\n",
    "import plotly.express as px"
   ]
  },
  {
   "cell_type": "code",
   "execution_count": null,
   "metadata": {},
   "outputs": [],
   "source": [
    "df_2019 = pd.read_csv(\"data/broadband_data_2019November.csv\")\n",
    "df_2019 = df_2019.query(\"ST=='NJ'\")"
   ]
  },
  {
   "cell_type": "code",
   "execution_count": null,
   "metadata": {},
   "outputs": [],
   "source": [
    "\n",
    "with open(\"shapefiles/geojson-counties-fips.json\") as f:\n",
    "    counties = json.load(f)"
   ]
  },
  {
   "cell_type": "code",
   "execution_count": null,
   "metadata": {},
   "outputs": [],
   "source": [
    "def get_numbers(str_data):\n",
    "    return float(str_data.strip())\n",
    "\n",
    "\n",
    "df_2019['broadband_usage'] = df_2019[' BROADBAND USAGE '].apply(get_numbers)\n",
    "df_2019['broadband_availability'] = df_2019[' BROADBAND AVAILABILITY PER FCC '].apply(get_numbers)\n",
    "df_2019\n"
   ]
  },
  {
   "cell_type": "code",
   "execution_count": null,
   "metadata": {},
   "outputs": [],
   "source": [
    "fig = px.choropleth(df_2019, geojson=counties, locations='COUNTY ID', color='broadband_usage',\n",
    "                           color_continuous_scale=\"armyrose_r\",\n",
    "                           range_color=(0, 1),\n",
    "                           scope=\"usa\",\n",
    "                           labels={'broadband_usage':'usage'}\n",
    "                          )\n",
    "fig.update_geos(fitbounds=\"locations\", visible=False)\n",
    "fig.add_scattergeo(\n",
    "                   locations = df_2019['COUNTY ID'],\n",
    "                   text = df_2019['broadband_usage'],\n",
    "                   geojson=counties,\n",
    "                   mode = 'text',\n",
    "                   )\n",
    "fig.update_layout(margin={\"r\":0,\"t\":0,\"l\":0,\"b\":0})\n",
    "fig.show()"
   ]
  },
  {
   "cell_type": "code",
   "execution_count": null,
   "metadata": {},
   "outputs": [],
   "source": [
    "fig = px.choropleth(df_2019, geojson=counties, locations='COUNTY ID', color='broadband_availability',\n",
    "                           color_continuous_scale=\"armyrose_r\",\n",
    "                           range_color=(0, 1),\n",
    "                           scope=\"usa\",\n",
    "                           labels={'broadband_availability':'availability'}\n",
    "                          )\n",
    "fig.update_geos(fitbounds=\"locations\", visible=False)\n",
    "fig.update_layout(margin={\"r\":0,\"t\":0,\"l\":0,\"b\":0})\n",
    "fig.show()"
   ]
  },
  {
   "cell_type": "code",
   "execution_count": null,
   "metadata": {},
   "outputs": [],
   "source": [
    "df_2019"
   ]
  },
  {
   "cell_type": "code",
   "execution_count": null,
   "metadata": {},
   "outputs": [],
   "source": [
    "with open(\"shapefiles/nj_new_jersey_zip_codes_geo.min.json\") as f:\n",
    "    zipcodes = json.load(f)"
   ]
  },
  {
   "cell_type": "code",
   "execution_count": null,
   "metadata": {},
   "outputs": [],
   "source": [
    "bb_zip_df = pd.read_csv(\"data/broadband_data_zipcode.csv\")\n",
    "bb_zip_df = bb_zip_df.query(\"ST=='NJ'\")[[\"POSTAL CODE\", \"BROADBAND USAGE\"]]\n",
    "bb_zip_df[\"POSTAL CODE\"] = bb_zip_df[\"POSTAL CODE\"].apply(str)\n",
    "bb_zip_df[\"POSTAL CODE\"] = bb_zip_df[\"POSTAL CODE\"].str.pad(5, \"left\", \"0\")\n"
   ]
  },
  {
   "cell_type": "code",
   "execution_count": null,
   "metadata": {},
   "outputs": [],
   "source": [
    "bb_zip_df"
   ]
  },
  {
   "cell_type": "code",
   "execution_count": null,
   "metadata": {},
   "outputs": [],
   "source": [
    "zipcodes"
   ]
  },
  {
   "cell_type": "code",
   "execution_count": null,
   "metadata": {},
   "outputs": [],
   "source": [
    "fig = px.choropleth(bb_zip_df, geojson=zipcodes, locations='POSTAL CODE', color='BROADBAND USAGE',\n",
    "                           color_continuous_scale=\"armyrose_r\",\n",
    "                           range_color=(0, 1),\n",
    "                           featureidkey=\"properties.ZCTA5CE10\",\n",
    "                           scope=\"usa\",\n",
    "                           labels={'BROADBAND USAGE':'usage'}\n",
    "                          )\n",
    "fig.update_geos(fitbounds=\"locations\", visible=False)\n",
    "fig.update_layout(margin={\"r\":0,\"t\":0,\"l\":0,\"b\":0})\n",
    "fig.show()"
   ]
  },
  {
   "cell_type": "code",
   "execution_count": null,
   "metadata": {},
   "outputs": [],
   "source": []
  }
 ],
 "metadata": {
  "kernelspec": {
   "display_name": "Python 3.10.7 ('.venv': venv)",
   "language": "python",
   "name": "python3"
  },
  "language_info": {
   "codemirror_mode": {
    "name": "ipython",
    "version": 3
   },
   "file_extension": ".py",
   "mimetype": "text/x-python",
   "name": "python",
   "nbconvert_exporter": "python",
   "pygments_lexer": "ipython3",
   "version": "3.10.7"
  },
  "orig_nbformat": 4,
  "vscode": {
   "interpreter": {
    "hash": "e529735adcb4364d70390cb44564155bb13411616a24f22fdc0e10c71207b0d1"
   }
  }
 },
 "nbformat": 4,
 "nbformat_minor": 2
}
