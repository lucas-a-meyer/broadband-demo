{
 "cells": [
  {
   "cell_type": "markdown",
   "metadata": {},
   "source": [
    "# Broadband evolution in New Jersey\n",
    "\n",
    "This is an example on how to use the Microsoft Open Data for Society Broadband files. It was designed to work with minimal imports."
   ]
  },
  {
   "cell_type": "code",
   "execution_count": null,
   "metadata": {},
   "outputs": [],
   "source": [
    "# We chose to use Plotly Express because it's free to use, multiplatform and easy to set up. \n",
    "# GeoPandas and others give more flexibility but may be harder to set up and use\n",
    "import json\n",
    "import pandas as pd\n",
    "import plotly.express as px"
   ]
  },
  {
   "cell_type": "markdown",
   "metadata": {},
   "source": [
    "## Collect the data\n",
    "\n",
    "This notebook was created for a demo for Rutgers University. Therefore, we filtered the data to New Jersey (where Rutgers is) in order to make the notebook lighter."
   ]
  },
  {
   "cell_type": "code",
   "execution_count": null,
   "metadata": {},
   "outputs": [],
   "source": [
    "# Load the broadband data for 2019 and filter it to New Jersey\n",
    "df_2019 = pd.read_csv(\"data/broadband_data_2019November.csv\")\n",
    "df_2019 = df_2019.query(\"ST=='NJ'\").reset_index()\n",
    "df_2019 = df_2019[[\"ST\", \"COUNTY ID\", \"COUNTY NAME\", \" BROADBAND AVAILABILITY PER FCC \", \" BROADBAND USAGE \"]] # mind the spaces in the column name\n",
    "df_2019.columns = ['state', 'county', 'county_name', 'broadband_availability_2019', 'broadband_usage_2019']\n",
    "\n",
    "# Numbers are stored as text, convert them to numbers\n",
    "df_2019[\"broadband_availability_2019\"] = df_2019[\"broadband_availability_2019\"].astype(float)\n",
    "df_2019[\"broadband_usage_2019\"] = df_2019[\"broadband_usage_2019\"].astype(float)\n",
    "\n",
    "df_2019"
   ]
  },
  {
   "cell_type": "code",
   "execution_count": null,
   "metadata": {},
   "outputs": [],
   "source": [
    "# Load the broadband data for 2020 and filter it to New Jersey\n",
    "df_2020 = pd.read_csv(\"data/broadband_data_2020October.csv\")\n",
    "df_2020 = df_2020.query(\"ST=='NJ'\").reset_index()\n",
    "df_2020 = df_2020[[\"ST\", \"COUNTY ID\", \"COUNTY NAME\", \" BROADBAND AVAILABILITY PER FCC \", \" BROADBAND USAGE \"]] # mind the spaces in the column name\n",
    "df_2020.columns = ['state', 'county', 'county_name', 'broadband_availability_2020', 'broadband_usage_2020']\n",
    "\n",
    "# Numbers are stored as text, convert them to numbers\n",
    "df_2020[\"broadband_availability_2020\"] = df_2020[\"broadband_availability_2020\"].astype(float)\n",
    "df_2020[\"broadband_usage_2020\"] = df_2020[\"broadband_usage_2020\"].astype(float)\n",
    "\n",
    "df_2020"
   ]
  },
  {
   "cell_type": "markdown",
   "metadata": {},
   "source": [
    "## Combine data from 2019 and 2020\n",
    "\n",
    "We're going to combine the data from 2019 and 2020 so that we can see the change between these two years.\n"
   ]
  },
  {
   "cell_type": "code",
   "execution_count": null,
   "metadata": {},
   "outputs": [],
   "source": [
    "df_combined = pd.merge(df_2019, df_2020, on=[\"state\", \"county\", \"county_name\"])\n",
    "df_combined"
   ]
  },
  {
   "cell_type": "markdown",
   "metadata": {},
   "source": [
    "## Read the shapefile\n",
    "\n",
    "When using geographical information, we usually need \"shapefiles\" that have data about the boundaries of geographical entities. This shapefile has the boundaries of counties. Shapefiles tend to be quite big."
   ]
  },
  {
   "cell_type": "code",
   "execution_count": null,
   "metadata": {},
   "outputs": [],
   "source": [
    "with open(\"shapefiles/geojson-counties-fips.json\") as f:\n",
    "    counties = json.load(f)"
   ]
  },
  {
   "cell_type": "markdown",
   "metadata": {},
   "source": [
    "# Explore the data using maps\n",
    "\n",
    "One interesting thing to observe with this data is that you can reach very different conclusions when looking at broadband **availability** (data provided by the FCC) and broadband **usage** (data provided by this dataset). The FCC defines availability as whether somebody living in that regions *could* have high-speed internet. This open dataset measures their average *actual* download speed to see if people are actually getting the advertised speeds.\n",
    "\n",
    "There are many possible reasons for potential discrepancies. One reason is when high-speed internet is available for some population in the county (e.g., in the main city), but high investments are necessary to bring the high-speed to rural dwellings."
   ]
  },
  {
   "cell_type": "markdown",
   "metadata": {},
   "source": [
    "## Availability"
   ]
  },
  {
   "cell_type": "code",
   "execution_count": null,
   "metadata": {},
   "outputs": [],
   "source": [
    "df_combined[\"availability_delta\"] = df_combined[\"broadband_availability_2020\"] - df_combined[\"broadband_usage_2020\"]\n",
    "\n",
    "fig = px.choropleth(df_combined, geojson=counties, locations='county', color='broadband_availability_2020',\n",
    "                           color_continuous_scale=\"armyrose_r\",\n",
    "                           range_color=(0, 1),\n",
    "                           scope=\"usa\",\n",
    "                           labels={'broadband_availability_2020':'availability'}\n",
    "                          )\n",
    "fig.update_geos(fitbounds=\"locations\", visible=False)\n",
    "fig.add_scattergeo(\n",
    "                   locations = df_combined['county'],\n",
    "                   text = round(100*df_combined['broadband_availability_2020'], 1),\n",
    "                   geojson=counties,\n",
    "                   mode = 'text',\n",
    "                   )\n",
    "fig.update_layout(margin={\"r\":0,\"t\":0,\"l\":0,\"b\":0})\n",
    "fig.show()"
   ]
  },
  {
   "cell_type": "markdown",
   "metadata": {},
   "source": [
    "## Usage\n",
    "\n",
    "Microsoft compiles this data, which represents *actual* obtained speeds. As you will see, the story is quite different."
   ]
  },
  {
   "cell_type": "code",
   "execution_count": null,
   "metadata": {},
   "outputs": [],
   "source": [
    "fig = px.choropleth(df_combined, geojson=counties, locations='county', color='broadband_usage_2020',\n",
    "                           color_continuous_scale=\"armyrose_r\",\n",
    "                           range_color=(0, 1),\n",
    "                           scope=\"usa\",\n",
    "                           labels={'broadband_availability_2020':'availability'}\n",
    "                          )\n",
    "fig.update_geos(fitbounds=\"locations\", visible=False)\n",
    "fig.add_scattergeo(\n",
    "                   locations = df_combined['county'],\n",
    "                   text = round(100*df_combined['broadband_usage_2020'], 1),\n",
    "                   geojson=counties,\n",
    "                   mode = 'text',\n",
    "                   )\n",
    "fig.update_layout(margin={\"r\":0,\"t\":0,\"l\":0,\"b\":0})\n",
    "fig.show()"
   ]
  },
  {
   "cell_type": "markdown",
   "metadata": {},
   "source": [
    "## Availability to usage delta\n",
    "\n",
    "This is the difference between the availability and the usage. The picture will be very similar to the usage."
   ]
  },
  {
   "cell_type": "code",
   "execution_count": null,
   "metadata": {},
   "outputs": [],
   "source": [
    "# This next line calculates the difference between availability and usage in 2020\n",
    "df_combined[\"availability_delta\"] = df_combined[\"broadband_availability_2020\"] - df_combined[\"broadband_usage_2020\"]\n",
    "\n",
    "fig = px.choropleth(df_combined, geojson=counties, locations='county', color='availability_delta',\n",
    "                           color_continuous_scale=\"armyrose\",\n",
    "                           range_color=(0, 1),\n",
    "                           scope=\"usa\",\n",
    "                           labels={'broadband_availability_2020':'availability'}\n",
    "                          )\n",
    "fig.update_geos(fitbounds=\"locations\", visible=False)\n",
    "fig.add_scattergeo(\n",
    "                   locations = df_combined['county'],\n",
    "                   text = round(100*df_combined['availability_delta'], 1),\n",
    "                   geojson=counties,\n",
    "                   mode = 'text',\n",
    "                   )\n",
    "fig.update_layout(margin={\"r\":0,\"t\":0,\"l\":0,\"b\":0})\n",
    "fig.show()"
   ]
  },
  {
   "cell_type": "markdown",
   "metadata": {},
   "source": [
    "## Usage delta between 2019 and 2020"
   ]
  },
  {
   "cell_type": "code",
   "execution_count": null,
   "metadata": {},
   "outputs": [],
   "source": [
    "# This next line calculates the difference between availability and usage in 2019 and 2020\n",
    "df_combined[\"usage_delta\"] = df_combined[\"broadband_usage_2020\"] - df_combined[\"broadband_usage_2019\"]\n",
    "\n",
    "fig = px.choropleth(df_combined, geojson=counties, locations='county', color='usage_delta',\n",
    "                           color_continuous_scale=\"armyrose_r\",\n",
    "                           range_color=(-0.2, 0.2),\n",
    "                           scope=\"usa\",\n",
    "                           labels={'broadband_availability_2020':'availability'}\n",
    "                          )\n",
    "fig.update_geos(fitbounds=\"locations\", visible=False)\n",
    "fig.add_scattergeo(\n",
    "                   locations = df_combined['county'],\n",
    "                   text = round(100*df_combined['usage_delta'], 1),\n",
    "                   geojson=counties,\n",
    "                   mode = 'text',\n",
    "                   )\n",
    "fig.update_layout(margin={\"r\":0,\"t\":0,\"l\":0,\"b\":0})\n",
    "fig.show()\n"
   ]
  },
  {
   "cell_type": "markdown",
   "metadata": {},
   "source": [
    "# Looking into demographics\n",
    "\n",
    "I've downloaded demographic data from [IPUMS](https://www.ipums.org/) to take a deeper look into determinants of low broadband use.\n",
    "\n",
    "This is not a scientific analysis to determine policy, it's just a directional example to show how to use this data. Some examples of shortcomings: the data was not weighted and just about 5,000 samples were collected from IPUMS. The summarized data only has 14 observations, which is definitely not enough for statistical tests, but might provide some interesting directions."
   ]
  },
  {
   "cell_type": "code",
   "execution_count": null,
   "metadata": {},
   "outputs": [],
   "source": [
    "df_demographics = pd.read_csv(\"data/demographics_clean.csv\")\n",
    "df_demographics"
   ]
  },
  {
   "cell_type": "code",
   "execution_count": null,
   "metadata": {},
   "outputs": [],
   "source": [
    "\n",
    "\n",
    "\n",
    "mod = smf.ols(formula=\"broadband_usage_2020 ~ college_4yr_or_more + household_income + employed + hispanic\", data=df_regression)\n",
    "\n",
    "# Fit the model\n",
    "res = mod.fit()\n",
    "\n",
    "res.summary()\n"
   ]
  },
  {
   "cell_type": "markdown",
   "metadata": {},
   "source": [
    "# Zip Code level data"
   ]
  },
  {
   "cell_type": "markdown",
   "metadata": {},
   "source": [
    "In 2020, Microsoft also started to make zip code level data available. This allows a lot more granularity and nuance in understanding broadband usage.\n",
    "\n",
    "To start, we need to load the shapefile for zip codes. Note: this file is very big."
   ]
  },
  {
   "cell_type": "code",
   "execution_count": null,
   "metadata": {},
   "outputs": [],
   "source": [
    "with open(\"shapefiles/nj_new_jersey_zip_codes_geo.min.json\") as f:\n",
    "    zipcodes = json.load(f)"
   ]
  },
  {
   "cell_type": "code",
   "execution_count": null,
   "metadata": {},
   "outputs": [],
   "source": [
    "bb_zip_df = pd.read_csv(\"data/broadband_data_zipcode.csv\")\n",
    "\n",
    "# Filter on New Jersey\n",
    "bb_zip_df = bb_zip_df.query(\"ST=='NJ'\")[[\"POSTAL CODE\", \"BROADBAND USAGE\"]]\n",
    "\n",
    "# Make sure that the zipcode has 5 digits with a leading zero\n",
    "bb_zip_df[\"POSTAL CODE\"] = bb_zip_df[\"POSTAL CODE\"].apply(str)\n",
    "bb_zip_df[\"POSTAL CODE\"] = bb_zip_df[\"POSTAL CODE\"].str.pad(5, \"left\", \"0\")\n"
   ]
  },
  {
   "cell_type": "code",
   "execution_count": null,
   "metadata": {},
   "outputs": [],
   "source": [
    "bb_zip_df"
   ]
  },
  {
   "cell_type": "code",
   "execution_count": null,
   "metadata": {},
   "outputs": [],
   "source": [
    "fig = px.choropleth(bb_zip_df, geojson=zipcodes, locations='POSTAL CODE', color='BROADBAND USAGE',\n",
    "                           color_continuous_scale=\"armyrose_r\",\n",
    "                           range_color=(0, 1),\n",
    "                           featureidkey=\"properties.ZCTA5CE10\",\n",
    "                           scope=\"usa\",\n",
    "                           labels={'BROADBAND USAGE':'usage'}\n",
    "                          )\n",
    "fig.update_geos(fitbounds=\"locations\", visible=False)\n",
    "fig.update_layout(margin={\"r\":0,\"t\":0,\"l\":0,\"b\":0})\n",
    "fig.show()"
   ]
  },
  {
   "cell_type": "markdown",
   "metadata": {},
   "source": [
    "# Where to go from here?\n",
    "\n",
    "This is just an initial tour of the broadband data. You can join this data with county-level data or even zip-code level data to try to answer lots of interesting questions:\n",
    "\n",
    "- Does income correlate with higher broadband use? (expected yes)\n",
    "- Do areas with higher broadband use have better educational outcomes?\n",
    "- Is there a correlation between increased density and broadband usage?\n",
    "- Is there a correlation between infrastructure investments and broadband usage?"
   ]
  }
 ],
 "metadata": {
  "kernelspec": {
   "display_name": "Python 3.10.7 ('.venv': venv)",
   "language": "python",
   "name": "python3"
  },
  "language_info": {
   "codemirror_mode": {
    "name": "ipython",
    "version": 3
   },
   "file_extension": ".py",
   "mimetype": "text/x-python",
   "name": "python",
   "nbconvert_exporter": "python",
   "pygments_lexer": "ipython3",
   "version": "3.10.7"
  },
  "orig_nbformat": 4,
  "vscode": {
   "interpreter": {
    "hash": "e529735adcb4364d70390cb44564155bb13411616a24f22fdc0e10c71207b0d1"
   }
  }
 },
 "nbformat": 4,
 "nbformat_minor": 2
}
